{
  "cells": [
    {
      "cell_type": "markdown",
      "metadata": {
        "tags": [],
        "id": "bQWM-zzmniad"
      },
      "source": [
        "# Article Page Views API Example\n",
        "This example illustrates how to access page view data using the [Wikimedia REST API](https://www.mediawiki.org/wiki/Wikimedia_REST_API). This example shows how to request monthly counts of page views for one specific article. The API documentation, [pageviews/per-article](https://wikimedia.org/api/rest_v1/#/Pageviews%20data), covers additional details that may be helpful when trying to use or understand this example.\n",
        "\n",
        "## License\n",
        "Part of this code example was developed by Dr. David W. McDonald for use in DATA 512, a course in the UW MS Data Science degree program. This code is provided under the [Creative Commons](https://creativecommons.org) [CC-BY license](https://creativecommons.org/licenses/by/4.0/). Revision 1.1 - May 5, 2022\n",
        "\n"
      ]
    },
    {
      "cell_type": "code",
      "execution_count": 1,
      "metadata": {
        "colab": {
          "base_uri": "https://localhost:8080/"
        },
        "id": "lDXu7Utyniah",
        "outputId": "cc1f0a0a-abb7-4f33-a9b6-dce73024f9f5"
      },
      "outputs": [
        {
          "output_type": "stream",
          "name": "stdout",
          "text": [
            "Looking in indexes: https://pypi.org/simple, https://us-python.pkg.dev/colab-wheels/public/simple/\n",
            "Requirement already satisfied: tqdm in /usr/local/lib/python3.7/dist-packages (4.64.1)\n",
            "Looking in indexes: https://pypi.org/simple, https://us-python.pkg.dev/colab-wheels/public/simple/\n",
            "Requirement already satisfied: xarray in /usr/local/lib/python3.7/dist-packages (0.20.2)\n",
            "Requirement already satisfied: numpy>=1.18 in /usr/local/lib/python3.7/dist-packages (from xarray) (1.21.6)\n",
            "Requirement already satisfied: importlib-metadata in /usr/local/lib/python3.7/dist-packages (from xarray) (5.0.0)\n",
            "Requirement already satisfied: typing-extensions>=3.7 in /usr/local/lib/python3.7/dist-packages (from xarray) (4.1.1)\n",
            "Requirement already satisfied: pandas>=1.1 in /usr/local/lib/python3.7/dist-packages (from xarray) (1.3.5)\n",
            "Requirement already satisfied: pytz>=2017.3 in /usr/local/lib/python3.7/dist-packages (from pandas>=1.1->xarray) (2022.4)\n",
            "Requirement already satisfied: python-dateutil>=2.7.3 in /usr/local/lib/python3.7/dist-packages (from pandas>=1.1->xarray) (2.8.2)\n",
            "Requirement already satisfied: six>=1.5 in /usr/local/lib/python3.7/dist-packages (from python-dateutil>=2.7.3->pandas>=1.1->xarray) (1.15.0)\n",
            "Requirement already satisfied: zipp>=0.5 in /usr/local/lib/python3.7/dist-packages (from importlib-metadata->xarray) (3.8.1)\n"
          ]
        }
      ],
      "source": [
        "!pip install tqdm\n",
        "#!pip install xarray"
      ]
    },
    {
      "cell_type": "code",
      "execution_count": 7,
      "metadata": {
        "tags": [],
        "id": "eoElj7zoniaj"
      },
      "outputs": [],
      "source": [
        "# \n",
        "# These are standard python modules\n",
        "import json, time, urllib.parse, os\n",
        "#\n",
        "# The 'requests' module is not a standard Python module. You will need to install this with pip/pip3 if you do not already have it\n",
        "import requests\n",
        "import pandas as pd\n",
        "from tqdm import tqdm\n",
        "import json\n",
        "import os\n",
        "import xarray as xa"
      ]
    },
    {
      "cell_type": "markdown",
      "metadata": {
        "id": "OXv5UCjuniak"
      },
      "source": [
        "The example relies on some constants that help make the code a bit more readable."
      ]
    },
    {
      "cell_type": "code",
      "execution_count": 8,
      "metadata": {
        "tags": [],
        "id": "uARvNTLNniak"
      },
      "outputs": [],
      "source": [
        "#########\n",
        "#\n",
        "#    CONSTANTS\n",
        "#\n",
        "\n",
        "# The REST API 'pageviews' URL - this is the common URL/endpoint for all 'pageviews' API requests\n",
        "API_REQUEST_PAGEVIEWS_ENDPOINT = 'https://wikimedia.org/api/rest_v1/metrics/pageviews/'\n",
        "\n",
        "# This is a parameterized string that specifies what kind of pageviews request we are going to make\n",
        "# In this case it will be a 'per-article' based request. The string is a format string so that we can\n",
        "# replace each parameter with an appropriate value before making the request\n",
        "API_REQUEST_PER_ARTICLE_PARAMS = 'per-article/{project}/{access}/{agent}/{article}/{granularity}/{start}/{end}'\n",
        "\n",
        "# The Pageviews API asks that we not exceed 100 requests per second, we add a small delay to each request\n",
        "API_LATENCY_ASSUMED = 0.002       # Assuming roughly 2ms latency on the API and network\n",
        "API_THROTTLE_WAIT = (1.0/100.0)-API_LATENCY_ASSUMED\n",
        "\n",
        "# When making a request to the Wikimedia API they ask that you include a \"unique ID\" that will allow them to\n",
        "# contact you if something happens - such as - your code exceeding request limits - or some other error happens\n",
        "REQUEST_HEADERS = {\n",
        "    'User-Agent': '<shwet695@uw.edu>, University of Washington, MSDS DATA 512 - AUTUMN 2022',\n",
        "}\n",
        "\n",
        "# Reading title list of dinosaur articles -\n",
        "wikipedia_dinosaur_df = pd.read_csv(r\"/content/data/dinosaur_genera.cleaned.SEPT.2022.csv\")\n",
        "#wikipedia_dinosaur_df = pd.read_csv(os.path.join(\"..\",\"data\",\"dinosaur_genera.cleaned.SEPT.2022.csv\"))\n",
        "# This is just a list of English Wikipedia article titles that we can use for example requests                            \n",
        "# ARTICLE_TITLES = [ 'Bison', 'Northern flicker', 'Red squirrel', 'Chinook salmon', 'Horseshoe bat' ]\n",
        "                               \n",
        "ARTICLE_TITLES = list(wikipedia_dinosaur_df.name)                               \n",
        "                               \n",
        "# This template is used to map parameter values into the API_REQUST_PER_ARTICLE_PARAMS portion of an API request. The dictionary has a\n",
        "# field/key for each of the required parameters. In the example, below, we only vary the article name, so the majority of the fields\n",
        "# can stay constant for each request. Of course, these values *could* be changed if necessary.\n",
        "ARTICLE_PAGEVIEWS_PARAMS_TEMPLATE = {\n",
        "    \"project\":     \"en.wikipedia.org\",\n",
        "    \"access\":      \"desktop\",      # this should be changed for the different access types\n",
        "    \"agent\":       \"user\",\n",
        "    \"article\":     \"\",             # this value will be set/changed before each request\n",
        "    \"granularity\": \"monthly\",\n",
        "    \"start\":       \"2015010100\",\n",
        "    \"end\":         \"2022093000\"    # this is likely the wrong end date\n",
        "}\n"
      ]
    },
    {
      "cell_type": "markdown",
      "metadata": {
        "id": "cf_CZ4_1niam"
      },
      "source": [
        "The API request will be made using one procedure. The idea is to make this reusable. The procedure is parameterized, but relies on the constants above for the important parameters. The underlying assumption is that this will be used to request data for a set of article pages. Therefore the parameter most likely to change is the article_title."
      ]
    },
    {
      "cell_type": "code",
      "execution_count": 9,
      "metadata": {
        "tags": [],
        "id": "biyNbBRCniam"
      },
      "outputs": [],
      "source": [
        "#########\n",
        "#\n",
        "#    PROCEDURES/FUNCTIONS\n",
        "#\n",
        "\n",
        "def request_pageviews_per_article(article_title = None, \n",
        "                                  endpoint_url = API_REQUEST_PAGEVIEWS_ENDPOINT, \n",
        "                                  endpoint_params = API_REQUEST_PER_ARTICLE_PARAMS, \n",
        "                                  request_template = ARTICLE_PAGEVIEWS_PARAMS_TEMPLATE,\n",
        "                                  headers = REQUEST_HEADERS):\n",
        "    # Make sure we have an article title\n",
        "    if not article_title: return None\n",
        "    \n",
        "    # Titles are supposed to have spaces replaced with \"_\" and be URL encoded\n",
        "    article_title_encoded = urllib.parse.quote(article_title.replace(' ','_'))\n",
        "    request_template['article'] = article_title_encoded\n",
        "    \n",
        "    # now, create a request URL by combining the endpoint_url with the parameters for the request\n",
        "    request_url = endpoint_url+endpoint_params.format(**request_template)\n",
        "    # print(request_url)\n",
        "    \n",
        "    # make the request\n",
        "    try:\n",
        "        # we'll wait first, to make sure we don't exceed the limit in the situation where an exception\n",
        "        # occurs during the request processing - throttling is always a good practice with a free\n",
        "        # data source like Wikipedia - or other community sources\n",
        "        if API_THROTTLE_WAIT > 0.0:\n",
        "            time.sleep(API_THROTTLE_WAIT)\n",
        "        response = requests.get(request_url, headers=headers)\n",
        "        json_response = response.json()\n",
        "    except Exception as e:\n",
        "        print(e)\n",
        "        json_response = None\n",
        "    return json_response\n"
      ]
    },
    {
      "cell_type": "markdown",
      "metadata": {
        "id": "Ut1g1ec9nian"
      },
      "source": [
        "## Main code for data collection using Pageviews API for reproducibility purposes\n",
        "#### Due to the very long list of articles, using tqdm package showed progress of download "
      ]
    },
    {
      "cell_type": "code",
      "execution_count": 10,
      "metadata": {
        "colab": {
          "base_uri": "https://localhost:8080/"
        },
        "id": "YfxBoLPenian",
        "outputId": "4a67431a-1b40-4fe5-9add-c6cda85ee89d"
      },
      "outputs": [
        {
          "output_type": "stream",
          "name": "stderr",
          "text": [
            "100%|██████████| 1423/1423 [08:14<00:00,  2.88it/s]\n",
            "100%|██████████| 1423/1423 [08:19<00:00,  2.85it/s]\n",
            "100%|██████████| 1423/1423 [08:28<00:00,  2.80it/s]\n",
            "100%|██████████| 1423/1423 [08:42<00:00,  2.73it/s]\n"
          ]
        }
      ],
      "source": [
        "devices_list = ['all-access', 'desktop', 'mobile-app', 'mobile-web']\n",
        "device_access_dict = {}\n",
        "\n",
        "for i in range(len(devices_list)):\n",
        "    mode = devices_list[i]\n",
        "    ARTICLE_PAGEVIEWS_PARAMS_TEMPLATE[\"access\"] = mode\n",
        "    mode_time_series = {}\n",
        "    for j in tqdm(range(len(ARTICLE_TITLES))):\n",
        "        article_ = ARTICLE_TITLES[j]\n",
        "        try:\n",
        "            views = request_pageviews_per_article(article_)\n",
        "            # Storing only time series data as returned from the API, with the exception of removing the ‘access’ field\n",
        "            # 'access' field is misleading for mobile and cumulative files.\n",
        "            views_minus_access_field = [ {key:item[key] for key in item if key!='access'} for item in views['items']]\n",
        "        except Exception as e:\n",
        "            print(views)\n",
        "        mode_time_series[article_] = views_minus_access_field\n",
        "    device_access_dict[mode] = mode_time_series"
      ]
    },
    {
      "cell_type": "code",
      "execution_count": 11,
      "metadata": {
        "id": "HeH1BQEOniao"
      },
      "outputs": [],
      "source": [
        "json_object = json.dumps(device_access_dict, indent=4)"
      ]
    },
    {
      "cell_type": "code",
      "source": [
        "# Save Pageview API downloaded json to local to avoid redownload next time kernel dies\n",
        "with open(os.path.join(\"..\",\"data\",\"pageview_download.json\"), \"w\") as outfile:\n",
        "    json.dump(device_access_dict, outfile)\n",
        "\n",
        "# Load Pageview API downloaded data\n",
        "with open(os.path.join(\"..\",\"data\",\"pageview_download.json\"), 'r') as openfile:\n",
        "    device_access_dict = json.load(openfile)"
      ],
      "metadata": {
        "id": "TvLDZLYzvusC"
      },
      "execution_count": null,
      "outputs": []
    },
    {
      "cell_type": "markdown",
      "metadata": {
        "id": "ef1HveTPniap"
      },
      "source": [
        "### In the extracted json data there are 2 types of access under \"mobile\" - mobile-app and mobile-web. We will combine them both - "
      ]
    },
    {
      "cell_type": "code",
      "execution_count": 13,
      "metadata": {
        "id": "9dS0hsmGniap"
      },
      "outputs": [],
      "source": [
        "all_dinos_mobile_dict = {}\n",
        "for dino in device_access_dict[\"mobile-app\"]:\n",
        "    dino_mobile_list = []\n",
        "    dino_all_months = device_access_dict[\"mobile-app\"][dino]\n",
        "    for dino_mob_app_monthly_views in dino_all_months:\n",
        "        mobile_monthly_dict = {}\n",
        "        for key in dino_mob_app_monthly_views:\n",
        "            if key!='views':\n",
        "                mobile_monthly_dict[key] = dino_mob_app_monthly_views[key]\n",
        "            else:\n",
        "                filtered_dict = [ dino_mob_web_monthly_views for dino_mob_web_monthly_views in device_access_dict[\"mobile-web\"][dino] \n",
        "                                            if dino_mob_web_monthly_views['timestamp'] == dino_mob_app_monthly_views['timestamp']]\n",
        "                mobile_monthly_dict[key] = dino_mob_app_monthly_views[key] + filtered_dict[0][\"views\"]\n",
        "        dino_mobile_list.append(mobile_monthly_dict)\n",
        "    all_dinos_mobile_dict[dino] = dino_mobile_list\n",
        "device_access_dict['mobile'] = all_dinos_mobile_dict"
      ]
    },
    {
      "cell_type": "markdown",
      "metadata": {
        "id": "0stGMzBUniaq"
      },
      "source": [
        "### Storing 3 files - Monthly mobile access, Monthly desktop access and Monthly cumulative"
      ]
    },
    {
      "cell_type": "code",
      "execution_count": null,
      "metadata": {
        "id": "j_LzINwzniaq"
      },
      "outputs": [],
      "source": [
        "with open(os.path.join(\"..\",\"data\",\"dino_monthly_mobile_201507-202209.json\"), \"w\") as outfile:\n",
        "    json.dump(device_access_dict[\"mobile\"], outfile)\n",
        "    \n",
        "with open(os.path.join(\"..\",\"data\",\"dino_monthly_desktop_201507-202209.json\"), \"w\") as outfile:\n",
        "    json.dump(device_access_dict[\"desktop\"], outfile)\n",
        "    \n",
        "with open(os.path.join(\"..\",\"data\",\"dino_monthly_cumulative_201507-202209.json\"), \"w\") as outfile:\n",
        "    json.dump(device_access_dict[\"all-access\"], outfile)"
      ]
    }
  ],
  "metadata": {
    "kernelspec": {
      "display_name": "Python 3 (ipykernel)",
      "language": "python",
      "name": "python3"
    },
    "language_info": {
      "codemirror_mode": {
        "name": "ipython",
        "version": 3
      },
      "file_extension": ".py",
      "mimetype": "text/x-python",
      "name": "python",
      "nbconvert_exporter": "python",
      "pygments_lexer": "ipython3",
      "version": "3.8.13"
    },
    "colab": {
      "provenance": [],
      "collapsed_sections": []
    }
  },
  "nbformat": 4,
  "nbformat_minor": 0
}